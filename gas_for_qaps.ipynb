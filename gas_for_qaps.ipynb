{
 "cells": [
  {
   "cell_type": "code",
   "execution_count": null,
   "metadata": {},
   "outputs": [],
   "source": [
    "# Genetic algorithms for solving Quadratic Assigment Problems"
   ]
  },
  {
   "cell_type": "code",
   "execution_count": 120,
   "metadata": {},
   "outputs": [
    {
     "name": "stdout",
     "output_type": "stream",
     "text": [
      "(256, 256)\n",
      "(256, 256)\n"
     ]
    }
   ],
   "source": [
    "import numpy as np\n",
    "\n",
    "# Defining the problem\n",
    "class QAProblem:\n",
    "\n",
    "    def __init__(self, n, distances, flows):\n",
    "        self.n = n\n",
    "        self.distances = distances\n",
    "        self.flows = flows\n",
    "\n",
    "    def trad_eval(self, solution):\n",
    "        cost = 0.\n",
    "        for i in range(self.n):\n",
    "            for j in range(self.n):\n",
    "                dist = self.distances[solution[i]][solution[j]]\n",
    "                flow = self.flows[i][j]\n",
    "                cost += flow * dist\n",
    "        return cost\n",
    "\n",
    "    def symm_eval(self, solution):\n",
    "        cost = 0\n",
    "        for i in range(self.n-1):\n",
    "            for j in range(i+1, self.n):\n",
    "                dist = self.distances[solution[i]][solution[j]]\n",
    "                flow = self.flows[i][j]\n",
    "                cost += 2*(flow * dist)\n",
    "        return cost\n",
    "\n",
    "    def __call__(self, solution):\n",
    "        perm_dist = self.distances[solution,:][:,solution]\n",
    "        return int(np.multiply(perm_dist, self.flows).sum())\n",
    "\n",
    "    def create_from_file(path):\n",
    "        with open(path, \"r\") as f:\n",
    "            n = int(f.readline().strip())\n",
    "            distances, flows = np.zeros((n, n), dtype=int), np.zeros((n, n), dtype=int)\n",
    "            _ = f.readline()\n",
    "            for i in range(n):\n",
    "                flows[i,:] = (list(map(int, f.readline().split())))\n",
    "            for j in range(n):\n",
    "                distances[j,:] = (list(map(int, f.readline().split())))\n",
    "        return QAProblem(n, distances, flows)\n",
    "\n",
    "# Reading data\n",
    "\n",
    "qaProblem = QAProblem.create_from_file(path=\"qap_data/tai256c.dat\")\n",
    "\n",
    "print(np.shape(qaProblem.distances))\n",
    "print(np.shape(qaProblem.flows))\n"
   ]
  },
  {
   "cell_type": "code",
   "execution_count": 121,
   "metadata": {},
   "outputs": [
    {
     "name": "stdout",
     "output_type": "stream",
     "text": [
      "2.912590980529785\n",
      "1.5737297534942627\n",
      "0.01387786865234375\n",
      "True\n",
      "True\n",
      "True\n"
     ]
    }
   ],
   "source": [
    "# Testing evaluation approaches\n",
    "import time\n",
    "\n",
    "np.random.seed(123)\n",
    "\n",
    "\n",
    "# Number of solutions (individuals)\n",
    "pop_size = 50\n",
    "\n",
    "# Creating the solution set, (population)\n",
    "pop = [np.random.permutation(qaProblem.n) for i in range(pop_size)]\n",
    "\n",
    "# Collecting fitness evaluations\n",
    "pop_fits = np.zeros((pop_size, 3), dtype=int)\n",
    "\n",
    "\n",
    "# Traditional approache\n",
    "start = time.time()\n",
    "fits = []\n",
    "for ind in pop:\n",
    "    fits.append(qaProblem.trad_eval(ind))\n",
    "pop_fits[:, 0] = fits\n",
    "end = time.time()\n",
    "print(end - start)\n",
    "\n",
    "# Exploiting symmetry\n",
    "start = time.time()\n",
    "fits = []\n",
    "for ind in pop:\n",
    "    fits.append(qaProblem.symm_eval(ind))\n",
    "pop_fits[:, 1] = fits\n",
    "end = time.time()\n",
    "print(end - start)\n",
    "\n",
    "# Exploiting numpy multiplication and sum\n",
    "start = time.time()\n",
    "fits = []\n",
    "for ind in pop:\n",
    "    fits.append(qaProblem(ind))\n",
    "pop_fits[:, 2] = fits\n",
    "end = time.time()\n",
    "print(end - start)\n",
    "\n",
    "# Checking fitness equallity between approaches\n",
    "\n",
    "print((pop_fits[:,0] == pop_fits[:,1]).all())\n",
    "print((pop_fits[:,0] == pop_fits[:,2]).all())\n",
    "print((pop_fits[:,1] == pop_fits[:,2]).all())\n",
    "\n",
    "\n"
   ]
  },
  {
   "cell_type": "code",
   "execution_count": 123,
   "metadata": {},
   "outputs": [],
   "source": [
    "class GAforQA:\n",
    "    def __init__(self, qa_problem:QAProblem, pop_size:int=50, crossover_rate:float=0.7, mutation_rate:float=0.1) -> None:\n",
    "        self.qa_problem = qa_problem\n",
    "        self.pop_size = pop_size\n",
    "        self.cross_rate = crossover_rate\n",
    "        self.mutation_rate = mutation_rate\n",
    "        self.population = np.empty((self.pop_size, self.qa_problem.n),  dtype=int)\n",
    "        self.fitness = np.zeros(self.pop_size, dtype=int)\n",
    "\n",
    "    def initialize(self):\n",
    "        for i in range(self.pop_size):\n",
    "            x = np.random.permutation(self.qa_problem.n)\n",
    "            f = self.qa_problem(x)\n",
    "            self.population[i,:] = x\n",
    "            self.fitness[i] = f\n",
    "\n",
    "    \n",
    "    \n",
    "\n",
    "ga_alg = GAforQA(qaProblem, pop_size=10)\n",
    "\n",
    "ga_alg.initialize()\n",
    "\n",
    "\n",
    "\n"
   ]
  },
  {
   "cell_type": "code",
   "execution_count": 124,
   "metadata": {},
   "outputs": [
    {
     "name": "stdout",
     "output_type": "stream",
     "text": [
      "[55603024 55026808 54207698 53111872 54152948 54031734 54390170 54114796\n",
      " 55710228 52386630]\n",
      "[9 3 5 7 4 2 6 1 0 8]\n",
      "[52386630 53111872 54031734 54114796 54152948 54207698 54390170 55026808\n",
      " 55603024 55710228]\n"
     ]
    }
   ],
   "source": [
    "ga_alg.population\n",
    "sortindx = np.argsort(ga_alg.fitness)\n",
    "\n",
    "\n",
    "print(ga_alg.fitness)\n",
    "print(sortindx)\n",
    "print(ga_alg.fitness[sortindx])\n",
    "\n"
   ]
  }
 ],
 "metadata": {
  "kernelspec": {
   "display_name": "Python 3.9.13 64-bit",
   "language": "python",
   "name": "python3"
  },
  "language_info": {
   "codemirror_mode": {
    "name": "ipython",
    "version": 3
   },
   "file_extension": ".py",
   "mimetype": "text/x-python",
   "name": "python",
   "nbconvert_exporter": "python",
   "pygments_lexer": "ipython3",
   "version": "3.9.13"
  },
  "orig_nbformat": 4,
  "vscode": {
   "interpreter": {
    "hash": "aee8b7b246df8f9039afb4144a1f6fd8d2ca17a180786b69acc140d282b71a49"
   }
  }
 },
 "nbformat": 4,
 "nbformat_minor": 2
}
